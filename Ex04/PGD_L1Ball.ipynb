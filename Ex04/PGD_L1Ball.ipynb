{
 "cells": [
  {
   "attachments": {},
   "cell_type": "markdown",
   "metadata": {
    "id": "-BEoNaRQKves"
   },
   "source": [
    "## Loss Functions for Linear Regression\n",
    "Given $(\\mathbf{x}_i,y_i) \\in \\mathbb{R}^p \\times \\mathbb{R}$ for $i = 1, \\ldots, m$, the linear regression algorithm uses the mean squared error cost function. This cost function is always convex for a linear function $\\hat{y} = {\\mathbf{\\theta}^\\top}\\mathbf{x}_i + \\mathbf{\\theta}_0$. In other words, the cost function always approaches its global minimum during training.\n",
    "\n",
    "The loss function used for training the linear regression algorithm is the mean-squared error (MSE). It is given mathematically as:\n",
    "\n",
    "$$J(\\mathbf{\\theta}) = \\frac{1}{2m}||\\mathbf{y}-\\hat{\\mathbf{y}}||^2 = \\frac{1}{2m}\\sum_i^m (y_i - \\hat{y_i})^2$$\n",
    "\n",
    "<hr> </hr>\n",
    "\n",
    "### Gradient:\n",
    "\n",
    "The gradient of $J(\\mathbf{\\theta})$ wrt $\\mathbf{\\theta}$ is calculated as:\n",
    "\n",
    "$$\\nabla_{\\mathbf{\\theta}} J = {1 \\over m}\\sum^m_{i=1}\\bigg[(\\hat{y_i} – y_i)\\mathbf{x}_i \\bigg],$$\n",
    "and the gradient descent update rule is given as follows:\n",
    "\n",
    "$$ \\theta^{t+1} = Proj_{\\chi}(\\theta^{t+1} - \\rho \\nabla_{\\mathbf{\\theta}} J),$$\n",
    "where $\\chi$ is a set of interest.\n"
   ]
  },
  {
   "cell_type": "markdown",
   "metadata": {
    "id": "KPNOzys4LKH9"
   },
   "source": [
    "## Import packages"
   ]
  },
  {
   "cell_type": "code",
   "execution_count": 19,
   "metadata": {
    "id": "wgWZeGrSKSby"
   },
   "outputs": [],
   "source": [
    "import numpy as np\n",
    "import matplotlib.pyplot as plt\n",
    "import pandas as pd\n",
    "from sklearn.model_selection import train_test_split\n",
    "from sklearn.metrics import r2_score\n",
    "%matplotlib inline"
   ]
  },
  {
   "cell_type": "code",
   "execution_count": null,
   "metadata": {},
   "outputs": [],
   "source": []
  },
  {
   "cell_type": "markdown",
   "metadata": {
    "id": "8R4GVrqeLQGv"
   },
   "source": [
    "# Gradient Descent Class"
   ]
  },
  {
   "cell_type": "code",
   "execution_count": 20,
   "metadata": {
    "id": "arNePSyMLOIj"
   },
   "outputs": [],
   "source": [
    "def proj(v):\n",
    "    \"\"\"\n",
    "    Implement the projection here.\n",
    "    \"\"\"\n",
    "    n = len(v)  # dimensionality of input vector\n",
    "    x = v.copy()  # initialize iteration with input vector\n",
    "    max_iters = 1000\n",
    "    tol = 0.000001\n",
    "    s = 10 # radius of ball\n",
    "    \n",
    "    for t in range(max_iters):\n",
    "        # Compute the projection of x onto the hyperplane defined by the L1 ball\n",
    "        u = np.abs(x)\n",
    "        if np.sum(u) <= s:\n",
    "            break\n",
    "        j_star = np.argmax(u)\n",
    "        sj_star = np.sign(x[j_star])\n",
    "        gamma_star = (np.sum(u) - s) / (n - 1)\n",
    "        x[j_star] = sj_star * np.maximum(u[j_star] - gamma_star, 0)\n",
    "        \n",
    "        # Check if the change in x is below the tolerance level\n",
    "        if np.linalg.norm(v - x) < tol:\n",
    "            break\n",
    "    \n",
    "    return x\n",
    "class GD:\n",
    "    def __init__(self, theta_init, lr=0.0001, max_iter=100):\n",
    "        self.lr = lr\n",
    "        self.max_iter = max_iter\n",
    "        self.theta_init = theta_init\n",
    "\n",
    "    # Hypothesis function\n",
    "    def predict(self, theta, x):\n",
    "        return x @ theta\n",
    "    \n",
    "    # Loss function\n",
    "    def J(self, prediction, y):\n",
    "        n = y.shape[0]\n",
    "        error_vec = prediction - y\n",
    "        loss = (0.5 / n ) * (error_vec.T @ error_vec)[0][0]\n",
    "\n",
    "        return loss, error_vec    \n",
    "    \n",
    "    @staticmethod\n",
    "    def reshape(x):\n",
    "      x = np.block([np.ones((x.shape[0], 1)), x])\n",
    "      return x\n",
    "\n",
    "    # Gradient descent algorithm\n",
    "    def fit(self, x, y):\n",
    "        \n",
    "        x = GD.reshape(x)\n",
    "        \n",
    "        # Number of features (X)\n",
    "        n = x.shape[1]\n",
    "        # theta = np.zeros((n, 1))\n",
    "        theta = self.theta_init\n",
    "        \n",
    "        # Lists for holding loss and model parameters\n",
    "        MSE = []\n",
    "        th = []\n",
    "\n",
    "        for epoch in range(self.max_iter):\n",
    "            \n",
    "            # Predicted value of output\n",
    "            y_pred = self.predict(theta, x)\n",
    "\n",
    "            # Calculate loss\n",
    "            loss, e = self.J(y_pred, y)\n",
    "            MSE.append(loss)\n",
    "            th.append(theta)\n",
    "\n",
    "            # Gradient of loss function with respect to theta\n",
    "            grad_theta = (x.T @ e) * (1 / n)     \n",
    "            # Update theta. Notice the projection!\n",
    "            theta = proj(theta - self.lr * grad_theta)\n",
    "            \n",
    "        return th, MSE"
   ]
  },
  {
   "cell_type": "code",
   "execution_count": null,
   "metadata": {},
   "outputs": [],
   "source": []
  },
  {
   "cell_type": "markdown",
   "metadata": {
    "id": "Gwh8nQ1JLXEk"
   },
   "source": [
    "## Plotting functions"
   ]
  },
  {
   "cell_type": "code",
   "execution_count": 21,
   "metadata": {
    "id": "J98n3FunLVWc"
   },
   "outputs": [],
   "source": [
    "def reg_line(x, y, y_pred):   \n",
    "    plt.scatter(x, y, label='Actual') \n",
    "    plt.title('Regression line')\n",
    "    plt.plot(x, y_pred, color='red', label='Predicted')  # regression line\n",
    "    plt.xlabel(\"Input (x)\")\n",
    "    plt.ylabel(\"Output (y)\")\n",
    "    plt.grid()\n",
    "    plt.legend()\n",
    "    plt.show()"
   ]
  },
  {
   "cell_type": "code",
   "execution_count": 22,
   "metadata": {
    "id": "waO1kLJjLaUN"
   },
   "outputs": [],
   "source": [
    "def visualize(theta, loss):\n",
    "\n",
    "  plt.figure(figsize = (15, 10))\n",
    "\n",
    "  #  For Loss Converegnce wrt to theta\n",
    "  # --------------------------------------------------------------------------------------------\n",
    "  plt.subplot(2, 2, 1)\n",
    "  plt.plot(np.array(loss), '--bo', mfc='r', mec='none', markersize=5)\n",
    "  # plt.title(f'Loss (MSE) = {np.round(loss[-1],2)}')\n",
    "  plt.title('Loss vs #epochs')\n",
    "  plt.xlabel(\"No. of epochs (e)\")\n",
    "  plt.ylabel(r\"Loss ($J$) (log-scale)\")\n",
    "  plt.yscale('log')\n",
    "  plt.grid()\n",
    "\n",
    "\n",
    "  #  For Loss Converegnce wrt to theta\n",
    "  # --------------------------------------------------------------------------------------------\n",
    "  plt.subplot(2, 2, 2)\n",
    "  plt.plot(np.linalg.norm(theta, axis = 1), np.array(loss), '--bo', mfc='r', mec='none', markersize=5)\n",
    "  plt.title(r'Loss vs $||\\theta||$')\n",
    "  plt.xlabel(r\"$||\\theta||$\")\n",
    "  plt.ylabel(r\"Loss ($J$) (log-scale)\")\n",
    "  plt.yscale('log')\n",
    "  plt.grid()\n",
    "\n",
    "  #  For loss convergence wrt individual theta components\n",
    "  # ------------\n",
    "  # wrt theta_0\n",
    "  # ------------\n",
    "  plt.subplot(2, 4, 5)\n",
    "  plt.plot(theta[:, [0], [0]], loss, '--bo', mfc='red', mec='none', markersize=5)\n",
    "  plt.title('Loss vs theta {}'.format(0))\n",
    "  plt.xlabel(r'$\\theta_{}$'.format(0))\n",
    "  plt.ylabel(r'$J(\\theta_{}$)'.format(0))\n",
    "  plt.grid()\n",
    "\n",
    "\n",
    "  # -------------------\n",
    "  # wrt theta_1\n",
    "  # -------------------   \n",
    "  plt.subplot(2, 4, 6)\n",
    "  plt.plot(theta[:, [1], [0]], loss, '--bo', mfc='red', mec='none', markersize=5)\n",
    "  plt.title('Loss vs theta {}'.format(1))\n",
    "  plt.xlabel(r'$\\theta_{}$'.format(1))\n",
    "  plt.ylabel(r'$J(\\theta_{}$)'.format(1))\n",
    "  plt.grid()\n",
    "\n",
    "\n",
    "  # -------------------\n",
    "  # wrt theta_2\n",
    "  # -------------------\n",
    "  plt.subplot(2, 4, 7)\n",
    "  plt.plot(theta[:, [2], [0]], loss, '--bo', mfc='red', mec='none', markersize=5)\n",
    "  plt.title('Loss vs theta {}'.format(2))\n",
    "  plt.xlabel(r'$\\theta_{}$'.format(2))\n",
    "  plt.ylabel(r'$J(\\theta_{}$)'.format(2))\n",
    "  plt.grid()\n",
    "\n",
    "\n",
    "  # -------------------\n",
    "  # wrt theta_3\n",
    "  # -------------------\n",
    "  plt.subplot(2, 4, 8)\n",
    "  plt.plot(theta[:, [3], [0]], loss, '--bo', mfc='red', mec='none', markersize=5)\n",
    "  plt.title('Loss vs theta {}'.format(3))\n",
    "  plt.xlabel(r'$\\theta_{}$'.format(3))\n",
    "  plt.ylabel(r'$J(\\theta_{}$)'.format(3))\n",
    "  plt.grid()\n",
    "\n",
    "  plt.tight_layout()\n",
    "  plt.show()"
   ]
  },
  {
   "cell_type": "markdown",
   "metadata": {
    "id": "YQilG6TgLePt"
   },
   "source": [
    "# Multivariable Case\n",
    "## Loading data"
   ]
  },
  {
   "cell_type": "code",
   "execution_count": 23,
   "metadata": {
    "colab": {
     "base_uri": "https://localhost:8080/"
    },
    "id": "KGwGjeOtLbum",
    "outputId": "df7bb054-d2aa-40be-e70f-a1ad14602929"
   },
   "outputs": [
    {
     "name": "stdout",
     "output_type": "stream",
     "text": [
      "Shape of data:  (25, 4)\n"
     ]
    },
    {
     "data": {
      "text/plain": [
       "array([[ 73,  80,  75, 152],\n",
       "       [ 93,  88,  93, 185],\n",
       "       [ 89,  91,  90, 180],\n",
       "       [ 96,  98, 100, 196],\n",
       "       [ 73,  66,  70, 142]])"
      ]
     },
     "execution_count": 23,
     "metadata": {},
     "output_type": "execute_result"
    }
   ],
   "source": [
    "# Dataframe from csv file, replace it with your local path!\n",
    "PATH = r'MultipleLR.csv'\n",
    "df = pd.read_csv(PATH, header=None)\n",
    "# df = pd.read_csv('MultipleLR.csv', header=None)\n",
    "data = df.to_numpy()\n",
    "\n",
    "print(\"Shape of data: \", data.shape)\n",
    "data[:5,:]"
   ]
  },
  {
   "cell_type": "code",
   "execution_count": 24,
   "metadata": {
    "colab": {
     "base_uri": "https://localhost:8080/"
    },
    "id": "4AtrVfaoLh8N",
    "outputId": "3d26da56-f041-4f2e-cde4-2b95ecb3cd0e"
   },
   "outputs": [
    {
     "data": {
      "text/plain": [
       "array([[ 73,  80,  75],\n",
       "       [ 93,  88,  93],\n",
       "       [ 89,  91,  90],\n",
       "       [ 96,  98, 100],\n",
       "       [ 73,  66,  70]])"
      ]
     },
     "execution_count": 24,
     "metadata": {},
     "output_type": "execute_result"
    }
   ],
   "source": [
    "y = data[:, [-1]]\n",
    "x = data[:, 0:3]\n",
    "x[:5,:]"
   ]
  },
  {
   "cell_type": "markdown",
   "metadata": {
    "id": "jyZn1MccMSvD"
   },
   "source": [
    "##Train/test split"
   ]
  },
  {
   "cell_type": "code",
   "execution_count": 25,
   "metadata": {
    "id": "__qBHku1MP9G"
   },
   "outputs": [],
   "source": [
    "X_train, X_test, y_train, y_test = train_test_split(x, y, test_size=0.2, random_state=0)"
   ]
  },
  {
   "cell_type": "markdown",
   "metadata": {
    "id": "FxxuVgquMauw"
   },
   "source": [
    "## Model initialization"
   ]
  },
  {
   "cell_type": "code",
   "execution_count": 26,
   "metadata": {
    "id": "WOUlo9AwMW67"
   },
   "outputs": [],
   "source": [
    "np.random.seed(42)\n",
    "# feel free to play with initialization\n",
    "theta_init = np.random.normal(size=(X_train.shape[1]+1, 1))\n",
    "model = GD(theta_init, lr=0.000001, max_iter=50)"
   ]
  },
  {
   "cell_type": "markdown",
   "metadata": {
    "id": "pdOnI9q5MfbS"
   },
   "source": [
    "## Model training"
   ]
  },
  {
   "cell_type": "code",
   "execution_count": 27,
   "metadata": {
    "id": "og0Hnsr5Mdux"
   },
   "outputs": [],
   "source": [
    "theta, loss = model.fit(X_train, y_train)"
   ]
  },
  {
   "cell_type": "code",
   "execution_count": 28,
   "metadata": {
    "colab": {
     "base_uri": "https://localhost:8080/"
    },
    "id": "UQ8RsrwqOB33",
    "outputId": "0e0f93d8-47b5-4a55-f247-5455b37e5b38"
   },
   "outputs": [
    {
     "data": {
      "text/plain": [
       "5.3448349196894345"
      ]
     },
     "execution_count": 28,
     "metadata": {},
     "output_type": "execute_result"
    }
   ],
   "source": [
    "loss[-1]"
   ]
  },
  {
   "cell_type": "code",
   "execution_count": 29,
   "metadata": {
    "colab": {
     "base_uri": "https://localhost:8080/"
    },
    "id": "aXiZJddDOENv",
    "outputId": "1e9b12e6-ff37-4cfe-c189-f7d917bb4db0"
   },
   "outputs": [
    {
     "data": {
      "text/plain": [
       "array([[ 0.49652244],\n",
       "       [-0.14932285],\n",
       "       [ 0.63442271],\n",
       "       [ 1.50886482]])"
      ]
     },
     "execution_count": 29,
     "metadata": {},
     "output_type": "execute_result"
    }
   ],
   "source": [
    "theta[-1]"
   ]
  },
  {
   "cell_type": "markdown",
   "metadata": {
    "id": "fjZWrmtOOHhB"
   },
   "source": [
    "## Training graphs"
   ]
  },
  {
   "cell_type": "code",
   "execution_count": 30,
   "metadata": {
    "colab": {
     "base_uri": "https://localhost:8080/"
    },
    "id": "ijV00-uN6xSv",
    "outputId": "aec860a9-94a4-486c-de14-869756dc0855"
   },
   "outputs": [
    {
     "data": {
      "text/plain": [
       "array([[ 0.49671415],\n",
       "       [-0.1382643 ],\n",
       "       [ 0.64768854],\n",
       "       [ 1.52302986]])"
      ]
     },
     "execution_count": 30,
     "metadata": {},
     "output_type": "execute_result"
    }
   ],
   "source": [
    "theta[0]"
   ]
  },
  {
   "cell_type": "code",
   "execution_count": 31,
   "metadata": {},
   "outputs": [
    {
     "data": {
      "text/plain": [
       "array([[ 0.49669755],\n",
       "       [-0.13952861],\n",
       "       [ 0.6463695 ],\n",
       "       [ 1.52166313]])"
      ]
     },
     "execution_count": 31,
     "metadata": {},
     "output_type": "execute_result"
    }
   ],
   "source": [
    "theta[1]"
   ]
  },
  {
   "cell_type": "code",
   "execution_count": 32,
   "metadata": {
    "colab": {
     "base_uri": "https://localhost:8080/",
     "height": 729
    },
    "id": "DA4khMsEOFou",
    "outputId": "4d14f845-6c1e-4764-a67d-b2819151b475"
   },
   "outputs": [
    {
     "data": {
      "image/png": "[encoded data removed]",
      "text/plain": [
       "<Figure size 1500x1000 with 6 Axes>"
      ]
     },
     "metadata": {},
     "output_type": "display_data"
    }
   ],
   "source": [
    "visualize(np.array(theta), loss)"
   ]
  },
  {
   "cell_type": "markdown",
   "metadata": {
    "id": "Ve84dQfAOM28"
   },
   "source": [
    "## Training evaluation"
   ]
  },
  {
   "cell_type": "code",
   "execution_count": 33,
   "metadata": {
    "colab": {
     "base_uri": "https://localhost:8080/"
    },
    "id": "zUmF1MVLOKYC",
    "outputId": "347ae166-caf0-4892-9b9c-798764c0c21a"
   },
   "outputs": [
    {
     "name": "stdout",
     "output_type": "stream",
     "text": [
      "The r2_score for training is 0.9757343869806564\n"
     ]
    }
   ],
   "source": [
    "y_pred = model.predict(theta[-1], GD.reshape(X_train))\n",
    "print(f'The r2_score for training is {r2_score(y_train, y_pred)}')"
   ]
  },
  {
   "cell_type": "markdown",
   "metadata": {
    "id": "HfASK9W_ORg3"
   },
   "source": [
    "## Predictions"
   ]
  },
  {
   "cell_type": "code",
   "execution_count": 34,
   "metadata": {
    "colab": {
     "base_uri": "https://localhost:8080/"
    },
    "id": "AQr5ubjdOPpA",
    "outputId": "117b0644-00be-4671-bdf6-a908c1aac790"
   },
   "outputs": [
    {
     "data": {
      "text/plain": [
       "array([[104.75342142],\n",
       "       [180.73708969],\n",
       "       [157.68901664],\n",
       "       [139.03385153],\n",
       "       [142.93739615]])"
      ]
     },
     "execution_count": 34,
     "metadata": {},
     "output_type": "execute_result"
    }
   ],
   "source": [
    "y_pred = model.predict(theta[-1], GD.reshape(X_test))\n",
    "y_pred"
   ]
  },
  {
   "cell_type": "code",
   "execution_count": 35,
   "metadata": {
    "colab": {
     "base_uri": "https://localhost:8080/"
    },
    "id": "Ki10DIrdOTqJ",
    "outputId": "976bd705-20c2-487a-accc-952d1d452e51"
   },
   "outputs": [
    {
     "data": {
      "text/plain": [
       "array([[101],\n",
       "       [180],\n",
       "       [159],\n",
       "       [147],\n",
       "       [141]])"
      ]
     },
     "execution_count": 35,
     "metadata": {},
     "output_type": "execute_result"
    }
   ],
   "source": [
    "y_test"
   ]
  },
  {
   "cell_type": "markdown",
   "metadata": {
    "id": "hKvb9sKgOWrX"
   },
   "source": [
    "## Test evaluation"
   ]
  },
  {
   "cell_type": "code",
   "execution_count": 36,
   "metadata": {
    "colab": {
     "base_uri": "https://localhost:8080/"
    },
    "id": "6E5GwUJrOVG1",
    "outputId": "382e2585-c362-4022-8e2a-f10042401b19"
   },
   "outputs": [
    {
     "name": "stdout",
     "output_type": "stream",
     "text": [
      "The r2_score for test is 0.9752420075312734\n"
     ]
    }
   ],
   "source": [
    "print(f'The r2_score for test is {r2_score(y_test, y_pred)}')"
   ]
  }
 ],
 "metadata": {
  "colab": {
   "provenance": []
  },
  "kernelspec": {
   "display_name": "Python 3 (ipykernel)",
   "language": "python",
   "name": "python3"
  },
  "language_info": {
   "codemirror_mode": {
    "name": "ipython",
    "version": 3
   },
   "file_extension": ".py",
   "mimetype": "text/x-python",
   "name": "python",
   "nbconvert_exporter": "python",
   "pygments_lexer": "ipython3",
   "version": "3.11.2"
  }
 },
 "nbformat": 4,
 "nbformat_minor": 1
}
